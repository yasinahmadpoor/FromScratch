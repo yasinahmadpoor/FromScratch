{
  "nbformat": 4,
  "nbformat_minor": 0,
  "metadata": {
    "colab": {
      "provenance": []
    },
    "kernelspec": {
      "name": "python3",
      "display_name": "Python 3"
    },
    "language_info": {
      "name": "python"
    }
  },
  "cells": [
    {
      "cell_type": "code",
      "execution_count": null,
      "metadata": {
        "id": "mJZhZQGl8mJr"
      },
      "outputs": [],
      "source": [
        "class ResMet(nn.Module):\n",
        "  def __init__(self, block, num_blocks, num_classes=10):\n",
        "    super(ResNet, self).__init__()\n",
        "\n",
        "    self.conv1 = nn.Conv2d(3, 64, kernel_size=7, stride=2)\n",
        "    self.maxpool1 = nn.Maxpool2d()\n"
      ]
    }
  ]
}