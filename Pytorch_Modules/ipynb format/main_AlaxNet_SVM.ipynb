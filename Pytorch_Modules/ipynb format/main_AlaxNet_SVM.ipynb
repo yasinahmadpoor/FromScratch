{
  "nbformat": 4,
  "nbformat_minor": 0,
  "metadata": {
    "colab": {
      "provenance": []
    },
    "kernelspec": {
      "name": "python3",
      "display_name": "Python 3"
    },
    "language_info": {
      "name": "python"
    }
  },
  "cells": [
    {
      "cell_type": "code",
      "execution_count": 1,
      "metadata": {
        "id": "u_Q6RZiXQnjI"
      },
      "outputs": [],
      "source": [
        "# Continue with regular imports\n",
        "\n",
        "import torch.optim as optim\n",
        "from torch.optim import lr_scheduler\n",
        "from torch.autograd import Variable\n",
        "import numpy as np\n",
        "import torchvision\n",
        "from torchvision import datasets, models, transforms\n",
        "import torch.nn.functional as F\n",
        "import matplotlib.pyplot as plt\n",
        "import time\n",
        "import os\n",
        "import copy\n",
        "from sklearn import svm\n",
        "from sklearn.model_selection import train_test_split, KFold\n",
        "from sklearn.metrics import classification_report, confusion_matrix  \n",
        "from collections import Counter\n",
        "import random\n",
        "from tqdm import tqdm\n",
        "from sklearn import svm\n",
        "from sklearn import metrics\n",
        "\n",
        "import matplotlib.pyplot as plt\n",
        "import torch\n",
        "import torchvision\n",
        "\n",
        "from torch import nn\n",
        "from torchvision import transforms\n",
        "from torchvision.transforms import ToTensor\n",
        "from torchvision import datasets\n",
        "from torch.utils.data import DataLoader, Subset\n",
        "\n",
        "# Try to get torchinfo, install it if it doesn't work\n",
        "try:\n",
        "    from torchinfo import summary\n",
        "except:\n",
        "    print(\"[INFO] Couldn't find torchinfo... installing it.\")\n",
        "    !pip install -q torchinfo\n",
        "    from torchinfo import summary\n",
        "\n",
        "\n",
        "device = \"cuda\" if torch.cuda.is_available() else \"cpu\""
      ]
    },
    {
      "cell_type": "code",
      "source": [
        "def get_train_test_loader(data_dir,\n",
        "                          batch_size,\n",
        "                          augment,\n",
        "                          shuffle=True,\n",
        "                          SUBSET_RATIO = 0.05):\n",
        "\n",
        "    # define normalizer\n",
        "    normalize = transforms.Normalize(\n",
        "            mean=[0.4914, 0.4822, 0.4465],\n",
        "            std=[0.2023, 0.1994, 0.2010])    # Normalize a tensor image with mean and standard deviation for n channels, this transform will normalize each channel of the input.\n",
        "\n",
        "\n",
        "    # define transforms\n",
        "    test_transform = transforms.Compose([\n",
        "                transforms.Resize((227,227)),\n",
        "                transforms.ToTensor(),          # transforms.ToTensor() automatically scales the images to [0,1] range\n",
        "                normalize])\n",
        "\n",
        "\n",
        "    if augment:\n",
        "            train_transform = transforms.Compose([\n",
        "                transforms.RandomCrop(32, padding=4),\n",
        "                transforms.RandomHorizontalFlip(),\n",
        "                transforms.ToTensor(),\n",
        "                normalize,\n",
        "            ])\n",
        "    else:\n",
        "            train_transform = transforms.Compose([\n",
        "                transforms.Resize((227,227)),\n",
        "                transforms.ToTensor(),\n",
        "                normalize,\n",
        "            ])\n",
        "\n",
        "    # download and create datasets\n",
        "    train_dataset = datasets.CIFAR10(root=data_dir, train=True, transform=train_transform, download=True)\n",
        "    test_dataset = datasets.CIFAR10(root=data_dir, train=False, transform=test_transform, download=True)\n",
        "\n",
        "    # Define the size of the subset\n",
        "    train_subset_size = int(SUBSET_RATIO * len(train_dataset))\n",
        "    test_subset_size = int(SUBSET_RATIO * len(test_dataset))\n",
        "\n",
        "    # Randomly select subset indices\n",
        "    train_subset_indices = torch.randperm(len(train_dataset))[:train_subset_size]\n",
        "    test_subset_indices = torch.randperm(len(test_dataset))[:test_subset_size]\n",
        "\n",
        "\n",
        "    # Create a subset of the original dataset using the selected indices\n",
        "    train_subset = Subset(train_dataset, train_subset_indices)\n",
        "    test_subset = Subset(test_dataset, test_subset_indices)\n",
        "\n",
        "\n",
        "    # define the data loaders\n",
        "    train_loader = DataLoader(dataset=train_subset, batch_size=batch_size, shuffle = shuffle)\n",
        "    test_loader = DataLoader(dataset=test_subset, batch_size=batch_size, shuffle=shuffle)\n",
        "\n",
        "    return (train_dataset, test_dataset, train_loader, test_loader)\n",
        "\n",
        "BATCH_SIZE = 64\n",
        "train_data, test_data, train_dataloader, test_dataloader = get_train_test_loader(data_dir = 'CIFAR10_data',\n",
        "                                                    batch_size = BATCH_SIZE,\n",
        "                                                    augment = False)\n",
        "# Let's check out what we've created\n",
        "print(f\"Dataloaders: {train_dataloader, test_dataloader}\") \n",
        "print(f\"Length of train dataloader: {len(train_dataloader)} batches of {BATCH_SIZE}\")\n",
        "print(f\"Length of test dataloader: {len(test_dataloader)} batches of {BATCH_SIZE}\")"
      ],
      "metadata": {
        "colab": {
          "base_uri": "https://localhost:8080/"
        },
        "id": "NeleMaWxVZVn",
        "outputId": "556896e5-a7e9-42f6-d335-7f11aa7cf743"
      },
      "execution_count": 2,
      "outputs": [
        {
          "output_type": "stream",
          "name": "stdout",
          "text": [
            "Files already downloaded and verified\n",
            "Files already downloaded and verified\n",
            "Dataloaders: (<torch.utils.data.dataloader.DataLoader object at 0x7fc62c8d6940>, <torch.utils.data.dataloader.DataLoader object at 0x7fc62c8d6850>)\n",
            "Length of train dataloader: 40 batches of 64\n",
            "Length of test dataloader: 8 batches of 64\n"
          ]
        }
      ]
    },
    {
      "cell_type": "code",
      "source": [
        "def set_AlexNet():\n",
        "  # Set the manual seeds\n",
        "  torch.manual_seed(42)\n",
        "  torch.cuda.manual_seed(42)\n",
        "\n",
        "  # Load pretrained model\n",
        "  model = torch.hub.load('pytorch/vision:v0.10.0', 'alexnet', pretrained=True)\n",
        "  model.eval()\n",
        "\n",
        "  # Freeze all base layers in the \"features\" section of the model (the feature extractor) by setting requires_grad=False\n",
        "  for param in model.parameters():\n",
        "    param.requires_grad = False\n",
        "\n",
        "  features = list(model.classifier.children())[:-1] # Remove last layer\n",
        "  model.classifier = nn.Sequential(*features) # Replace the model classifier\n",
        "\n",
        "  return model\n"
      ],
      "metadata": {
        "id": "3YRBkUfVVcWm"
      },
      "execution_count": 3,
      "outputs": []
    },
    {
      "cell_type": "code",
      "source": [
        "# Print a summary using torchinfo (uncomment for actual output)\n",
        "model = set_AlexNet()\n",
        "summary(model=model, \n",
        "        input_size=(32, 3, 227, 227), # make sure this is \"input_size\", not \"input_shape\"\n",
        "        col_names=[\"input_size\", \"output_size\", \"num_params\", \"trainable\"],\n",
        "        col_width=20,\n",
        "        row_settings=[\"var_names\"]\n",
        ")"
      ],
      "metadata": {
        "colab": {
          "base_uri": "https://localhost:8080/"
        },
        "id": "LYza4KD6VmXu",
        "outputId": "475059d0-838c-43a4-dbbd-bd6bee152ef7"
      },
      "execution_count": 4,
      "outputs": [
        {
          "output_type": "stream",
          "name": "stderr",
          "text": [
            "Using cache found in /root/.cache/torch/hub/pytorch_vision_v0.10.0\n",
            "/usr/local/lib/python3.9/dist-packages/torchvision/models/_utils.py:208: UserWarning: The parameter 'pretrained' is deprecated since 0.13 and may be removed in the future, please use 'weights' instead.\n",
            "  warnings.warn(\n",
            "/usr/local/lib/python3.9/dist-packages/torchvision/models/_utils.py:223: UserWarning: Arguments other than a weight enum or `None` for 'weights' are deprecated since 0.13 and may be removed in the future. The current behavior is equivalent to passing `weights=AlexNet_Weights.IMAGENET1K_V1`. You can also use `weights=AlexNet_Weights.DEFAULT` to get the most up-to-date weights.\n",
            "  warnings.warn(msg)\n"
          ]
        },
        {
          "output_type": "execute_result",
          "data": {
            "text/plain": [
              "========================================================================================================================\n",
              "Layer (type (var_name))                  Input Shape          Output Shape         Param #              Trainable\n",
              "========================================================================================================================\n",
              "AlexNet (AlexNet)                        [32, 3, 227, 227]    [32, 4096]           --                   False\n",
              "├─Sequential (features)                  [32, 3, 227, 227]    [32, 256, 6, 6]      --                   False\n",
              "│    └─Conv2d (0)                        [32, 3, 227, 227]    [32, 64, 56, 56]     (23,296)             False\n",
              "│    └─ReLU (1)                          [32, 64, 56, 56]     [32, 64, 56, 56]     --                   --\n",
              "│    └─MaxPool2d (2)                     [32, 64, 56, 56]     [32, 64, 27, 27]     --                   --\n",
              "│    └─Conv2d (3)                        [32, 64, 27, 27]     [32, 192, 27, 27]    (307,392)            False\n",
              "│    └─ReLU (4)                          [32, 192, 27, 27]    [32, 192, 27, 27]    --                   --\n",
              "│    └─MaxPool2d (5)                     [32, 192, 27, 27]    [32, 192, 13, 13]    --                   --\n",
              "│    └─Conv2d (6)                        [32, 192, 13, 13]    [32, 384, 13, 13]    (663,936)            False\n",
              "│    └─ReLU (7)                          [32, 384, 13, 13]    [32, 384, 13, 13]    --                   --\n",
              "│    └─Conv2d (8)                        [32, 384, 13, 13]    [32, 256, 13, 13]    (884,992)            False\n",
              "│    └─ReLU (9)                          [32, 256, 13, 13]    [32, 256, 13, 13]    --                   --\n",
              "│    └─Conv2d (10)                       [32, 256, 13, 13]    [32, 256, 13, 13]    (590,080)            False\n",
              "│    └─ReLU (11)                         [32, 256, 13, 13]    [32, 256, 13, 13]    --                   --\n",
              "│    └─MaxPool2d (12)                    [32, 256, 13, 13]    [32, 256, 6, 6]      --                   --\n",
              "├─AdaptiveAvgPool2d (avgpool)            [32, 256, 6, 6]      [32, 256, 6, 6]      --                   --\n",
              "├─Sequential (classifier)                [32, 9216]           [32, 4096]           --                   False\n",
              "│    └─Dropout (0)                       [32, 9216]           [32, 9216]           --                   --\n",
              "│    └─Linear (1)                        [32, 9216]           [32, 4096]           (37,752,832)         False\n",
              "│    └─ReLU (2)                          [32, 4096]           [32, 4096]           --                   --\n",
              "│    └─Dropout (3)                       [32, 4096]           [32, 4096]           --                   --\n",
              "│    └─Linear (4)                        [32, 4096]           [32, 4096]           (16,781,312)         False\n",
              "│    └─ReLU (5)                          [32, 4096]           [32, 4096]           --                   --\n",
              "========================================================================================================================\n",
              "Total params: 57,003,840\n",
              "Trainable params: 0\n",
              "Non-trainable params: 57,003,840\n",
              "Total mult-adds (G): 22.82\n",
              "========================================================================================================================\n",
              "Input size (MB): 19.79\n",
              "Forward/backward pass size (MB): 128.07\n",
              "Params size (MB): 228.02\n",
              "Estimated Total Size (MB): 375.88\n",
              "========================================================================================================================"
            ]
          },
          "metadata": {},
          "execution_count": 4
        }
      ]
    },
    {
      "cell_type": "code",
      "source": [
        "def feature_extractor(model: torch.nn.Module,\n",
        "              dataloader: torch.utils.data.DataLoader,\n",
        "               ):\n",
        "  \"\"\"Extract features of CNN model.\n",
        "  Args:\n",
        "  model: A PyTorch model to be trained.\n",
        "  dataloader: A DataLoader instance for the model to be trained on.\n",
        "  Returns:\n",
        "  A tuple of extracted features and true labels.\n",
        "  In the form (extracted_features_, true_labels_).\n",
        "  \"\"\"\n",
        "  # Setup extracted features and true labels list\n",
        "  extracted_features = []\n",
        "  true_labels = []\n",
        "\n",
        "  # Extract features \n",
        "  for X, y in tqdm(dataloader):\n",
        "    features = model(X)\n",
        "    extracted_features.append(features)\n",
        "    true_labels.append(y)\n",
        "\n",
        "  # Reshape features and labels and convert them to numpy array\n",
        "  extracted_features_ = torch.cat(extracted_features).numpy()\n",
        "  true_labels_ = torch.cat(true_labels).numpy()\n",
        "\n",
        "  return extracted_features_,true_labels_"
      ],
      "metadata": {
        "id": "sVqjGAiF4I8P"
      },
      "execution_count": 5,
      "outputs": []
    },
    {
      "cell_type": "code",
      "source": [
        "train_extracted_features, train_labels = feature_extractor(model,\n",
        "                                                          train_dataloader)\n",
        "\n",
        "C = 1.0\n",
        "# Train an SVM model\n",
        "clf = svm.SVC(kernel='poly', degree=2, decision_function_shape='ovr',  C=C)\n",
        "clf.fit(train_extracted_features, train_labels)\n",
        "pred_train_labels = clf.predict(train_extracted_features)"
      ],
      "metadata": {
        "colab": {
          "base_uri": "https://localhost:8080/"
        },
        "id": "oGpjpjlvY66C",
        "outputId": "a0bbd701-603b-44ca-f164-b6e654e9683b"
      },
      "execution_count": 15,
      "outputs": [
        {
          "output_type": "stream",
          "name": "stderr",
          "text": [
            "100%|██████████| 40/40 [01:32<00:00,  2.31s/it]\n"
          ]
        }
      ]
    },
    {
      "cell_type": "code",
      "source": [
        "test_extracted_features, test_labels = feature_extractor(model,\n",
        "                                                        test_dataloader)\n",
        "\n",
        "# Predict on features with SVM\n",
        "pred_test_labels = clf.predict(test_extracted_features)"
      ],
      "metadata": {
        "colab": {
          "base_uri": "https://localhost:8080/"
        },
        "id": "boAbIqoCZoBI",
        "outputId": "1ec4d152-c23d-47c7-b8e2-1e2441400867"
      },
      "execution_count": 19,
      "outputs": [
        {
          "output_type": "stream",
          "name": "stderr",
          "text": [
            "100%|██████████| 8/8 [00:19<00:00,  2.42s/it]\n"
          ]
        }
      ]
    },
    {
      "cell_type": "code",
      "source": [
        "# let's see some metrics\n",
        "print('Train data---------')\n",
        "print(f'Train Accuracy: {metrics.accuracy_score(train_labels, pred_train_labels)}')\n",
        "print(f'Train Precision: {metrics.precision_score(train_labels, pred_train_labels, average=\"micro\")}')\n",
        "print(f'Train Recall: {metrics.recall_score(train_labels, pred_train_labels, average=\"macro\")}')\n",
        "print(f'Train F1: {metrics.f1_score(train_labels, pred_train_labels, average=\"micro\")}')\n",
        "\n",
        "print('Test data---------')\n",
        "print(f'Test Accuracy: {metrics.accuracy_score(test_labels, pred_test_labels)}')\n",
        "print(f'TestPrecision: {metrics.precision_score(test_labels, pred_test_labels, average=\"micro\")}')\n",
        "print(f'Test Recall: {metrics.recall_score(test_labels, pred_test_labels, average=\"macro\")}')\n",
        "print(f'Test F1: {metrics.f1_score(test_labels, pred_test_labels, average=\"micro\")}')"
      ],
      "metadata": {
        "colab": {
          "base_uri": "https://localhost:8080/"
        },
        "id": "HcoE35tMgvQu",
        "outputId": "1cb21b81-9db8-40f7-d8fe-877892bc2ae3"
      },
      "execution_count": 20,
      "outputs": [
        {
          "output_type": "stream",
          "name": "stdout",
          "text": [
            "Train data---------\n",
            "Train Accuracy: 0.9104\n",
            "Train Precision: 0.9104\n",
            "Train Recall: 0.9100196682774667\n",
            "Train F1: 0.9103999999999999\n",
            "Test data---------\n",
            "Test Accuracy: 0.746\n",
            "TestPrecision: 0.746\n",
            "Test Recall: 0.7433212103521523\n",
            "Test F1: 0.746\n"
          ]
        }
      ]
    },
    {
      "cell_type": "code",
      "source": [
        "from sklearn.metrics import confusion_matrix\n",
        "import seaborn as sns\n",
        "plt.figure(figsize=(15,15))\n",
        "cm = confusion_matrix(test_labels, pred_test_labels)\n",
        "f = sns.heatmap(cm, annot=True,fmt='d',xticklabels=train_data.classes,yticklabels=train_data.classes)\n",
        "plt.show()"
      ],
      "metadata": {
        "colab": {
          "base_uri": "https://localhost:8080/",
          "height": 863
        },
        "id": "T9xtbf1LkMxr",
        "outputId": "db3a9062-3bfa-49f2-e1b7-a0a477280291"
      },
      "execution_count": 21,
      "outputs": [
        {
          "output_type": "display_data",
          "data": {
            "text/plain": [
              "<Figure size 1080x1080 with 2 Axes>"
            ],
            "image/png": "[encoded data removed]"
          },
          "metadata": {
            "needs_background": "light"
          }
        }
      ]
    },
    {
      "cell_type": "code",
      "source": [],
      "metadata": {
        "id": "MPb_6hsn3ouH"
      },
      "execution_count": null,
      "outputs": []
    }
  ]
}